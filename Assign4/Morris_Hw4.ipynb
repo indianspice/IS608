{
 "cells": [
  {
   "cell_type": "markdown",
   "metadata": {},
   "source": [
    "# Enterococcus Levels IS608 Module 4\n",
    "Sharon Morris, \n",
    "October 22, 2017"
   ]
  },
  {
   "cell_type": "markdown",
   "metadata": {},
   "source": [
    "## Load and Clean the data\n",
    "### Examine the data"
   ]
  },
  {
   "cell_type": "code",
   "execution_count": 551,
   "metadata": {
    "collapsed": true
   },
   "outputs": [],
   "source": [
    "import pandas as pd\n",
    "import matplotlib.pyplot as plt\n",
    "import seaborn as sns\n",
    "import datetime\n",
    "import numpy as np"
   ]
  },
  {
   "cell_type": "code",
   "execution_count": 552,
   "metadata": {
    "scrolled": true
   },
   "outputs": [],
   "source": [
    "df = pd.read_csv('https://raw.githubusercontent.com/indianspice/IS608/master/Assign4/riverkeeper_data_2013.csv')\n"
   ]
  },
  {
   "cell_type": "code",
   "execution_count": 553,
   "metadata": {},
   "outputs": [
    {
     "data": {
      "text/html": [
       "<div>\n",
       "<style>\n",
       "    .dataframe thead tr:only-child th {\n",
       "        text-align: right;\n",
       "    }\n",
       "\n",
       "    .dataframe thead th {\n",
       "        text-align: left;\n",
       "    }\n",
       "\n",
       "    .dataframe tbody tr th {\n",
       "        vertical-align: top;\n",
       "    }\n",
       "</style>\n",
       "<table border=\"1\" class=\"dataframe\">\n",
       "  <thead>\n",
       "    <tr style=\"text-align: right;\">\n",
       "      <th></th>\n",
       "      <th>Site</th>\n",
       "      <th>Date</th>\n",
       "      <th>EnteroCount</th>\n",
       "      <th>FourDayRainTotal</th>\n",
       "      <th>SampleCount</th>\n",
       "    </tr>\n",
       "  </thead>\n",
       "  <tbody>\n",
       "    <tr>\n",
       "      <th>0</th>\n",
       "      <td>Hudson above Mohawk River</td>\n",
       "      <td>10/16/2011</td>\n",
       "      <td>1733</td>\n",
       "      <td>1.5</td>\n",
       "      <td>35</td>\n",
       "    </tr>\n",
       "    <tr>\n",
       "      <th>1</th>\n",
       "      <td>Hudson above Mohawk River</td>\n",
       "      <td>10/21/2013</td>\n",
       "      <td>4</td>\n",
       "      <td>0.2</td>\n",
       "      <td>35</td>\n",
       "    </tr>\n",
       "    <tr>\n",
       "      <th>2</th>\n",
       "      <td>Hudson above Mohawk River</td>\n",
       "      <td>9/21/2013</td>\n",
       "      <td>20</td>\n",
       "      <td>0.0</td>\n",
       "      <td>35</td>\n",
       "    </tr>\n",
       "    <tr>\n",
       "      <th>3</th>\n",
       "      <td>Hudson above Mohawk River</td>\n",
       "      <td>8/19/2013</td>\n",
       "      <td>6</td>\n",
       "      <td>0.0</td>\n",
       "      <td>35</td>\n",
       "    </tr>\n",
       "    <tr>\n",
       "      <th>4</th>\n",
       "      <td>Hudson above Mohawk River</td>\n",
       "      <td>7/21/2013</td>\n",
       "      <td>31</td>\n",
       "      <td>0.0</td>\n",
       "      <td>35</td>\n",
       "    </tr>\n",
       "  </tbody>\n",
       "</table>\n",
       "</div>"
      ],
      "text/plain": [
       "                        Site        Date EnteroCount  FourDayRainTotal  \\\n",
       "0  Hudson above Mohawk River  10/16/2011        1733               1.5   \n",
       "1  Hudson above Mohawk River  10/21/2013           4               0.2   \n",
       "2  Hudson above Mohawk River   9/21/2013          20               0.0   \n",
       "3  Hudson above Mohawk River   8/19/2013           6               0.0   \n",
       "4  Hudson above Mohawk River   7/21/2013          31               0.0   \n",
       "\n",
       "   SampleCount  \n",
       "0           35  \n",
       "1           35  \n",
       "2           35  \n",
       "3           35  \n",
       "4           35  "
      ]
     },
     "execution_count": 553,
     "metadata": {},
     "output_type": "execute_result"
    }
   ],
   "source": [
    "df.head()"
   ]
  },
  {
   "cell_type": "code",
   "execution_count": 554,
   "metadata": {},
   "outputs": [
    {
     "data": {
      "text/html": [
       "<div>\n",
       "<style>\n",
       "    .dataframe thead tr:only-child th {\n",
       "        text-align: right;\n",
       "    }\n",
       "\n",
       "    .dataframe thead th {\n",
       "        text-align: left;\n",
       "    }\n",
       "\n",
       "    .dataframe tbody tr th {\n",
       "        vertical-align: top;\n",
       "    }\n",
       "</style>\n",
       "<table border=\"1\" class=\"dataframe\">\n",
       "  <thead>\n",
       "    <tr style=\"text-align: right;\">\n",
       "      <th></th>\n",
       "      <th>Site</th>\n",
       "      <th>Date</th>\n",
       "      <th>EnteroCount</th>\n",
       "      <th>FourDayRainTotal</th>\n",
       "      <th>SampleCount</th>\n",
       "    </tr>\n",
       "  </thead>\n",
       "  <tbody>\n",
       "    <tr>\n",
       "      <th>3392</th>\n",
       "      <td>Gowanus Canal</td>\n",
       "      <td>9/6/2007</td>\n",
       "      <td>&lt;10</td>\n",
       "      <td>0.0</td>\n",
       "      <td>37</td>\n",
       "    </tr>\n",
       "    <tr>\n",
       "      <th>3393</th>\n",
       "      <td>Gowanus Canal</td>\n",
       "      <td>8/16/2007</td>\n",
       "      <td>35</td>\n",
       "      <td>0.0</td>\n",
       "      <td>37</td>\n",
       "    </tr>\n",
       "    <tr>\n",
       "      <th>3394</th>\n",
       "      <td>Gowanus Canal</td>\n",
       "      <td>7/11/2007</td>\n",
       "      <td>238</td>\n",
       "      <td>1.0</td>\n",
       "      <td>37</td>\n",
       "    </tr>\n",
       "    <tr>\n",
       "      <th>3395</th>\n",
       "      <td>Gowanus Canal</td>\n",
       "      <td>6/18/2007</td>\n",
       "      <td>6</td>\n",
       "      <td>0.0</td>\n",
       "      <td>37</td>\n",
       "    </tr>\n",
       "    <tr>\n",
       "      <th>3396</th>\n",
       "      <td>Gowanus Canal</td>\n",
       "      <td>6/10/2010</td>\n",
       "      <td>882</td>\n",
       "      <td>0.9</td>\n",
       "      <td>37</td>\n",
       "    </tr>\n",
       "  </tbody>\n",
       "</table>\n",
       "</div>"
      ],
      "text/plain": [
       "               Site       Date EnteroCount  FourDayRainTotal  SampleCount\n",
       "3392  Gowanus Canal   9/6/2007         <10               0.0           37\n",
       "3393  Gowanus Canal  8/16/2007          35               0.0           37\n",
       "3394  Gowanus Canal  7/11/2007         238               1.0           37\n",
       "3395  Gowanus Canal  6/18/2007           6               0.0           37\n",
       "3396  Gowanus Canal  6/10/2010         882               0.9           37"
      ]
     },
     "execution_count": 554,
     "metadata": {},
     "output_type": "execute_result"
    }
   ],
   "source": [
    "df.tail()"
   ]
  },
  {
   "cell_type": "code",
   "execution_count": 555,
   "metadata": {},
   "outputs": [
    {
     "data": {
      "text/plain": [
       "(3397, 5)"
      ]
     },
     "execution_count": 555,
     "metadata": {},
     "output_type": "execute_result"
    }
   ],
   "source": [
    "#View number of observations\n",
    "df.shape"
   ]
  },
  {
   "cell_type": "code",
   "execution_count": 556,
   "metadata": {},
   "outputs": [
    {
     "data": {
      "text/plain": [
       "Index([u'Site', u'Date', u'EnteroCount', u'FourDayRainTotal', u'SampleCount'], dtype='object')"
      ]
     },
     "execution_count": 556,
     "metadata": {},
     "output_type": "execute_result"
    }
   ],
   "source": [
    "#Examine columns\n",
    "df.columns"
   ]
  },
  {
   "cell_type": "code",
   "execution_count": 557,
   "metadata": {},
   "outputs": [
    {
     "data": {
      "text/plain": [
       "Site                 object\n",
       "Date                 object\n",
       "EnteroCount          object\n",
       "FourDayRainTotal    float64\n",
       "SampleCount           int64\n",
       "dtype: object"
      ]
     },
     "execution_count": 557,
     "metadata": {},
     "output_type": "execute_result"
    }
   ],
   "source": [
    "df.dtypes"
   ]
  },
  {
   "cell_type": "markdown",
   "metadata": {},
   "source": [
    "### Fix data issues"
   ]
  },
  {
   "cell_type": "code",
   "execution_count": 558,
   "metadata": {
    "collapsed": true
   },
   "outputs": [],
   "source": [
    "df['EnteroCount'].replace('<', \"\", regex=True, inplace=True)"
   ]
  },
  {
   "cell_type": "code",
   "execution_count": 559,
   "metadata": {
    "collapsed": true
   },
   "outputs": [],
   "source": [
    "df['EnteroCount'].replace('>', \"\", regex=True, inplace=True)"
   ]
  },
  {
   "cell_type": "code",
   "execution_count": 560,
   "metadata": {
    "collapsed": true
   },
   "outputs": [],
   "source": [
    "df['EnteroCount'] = df['EnteroCount'].astype(int)"
   ]
  },
  {
   "cell_type": "code",
   "execution_count": 561,
   "metadata": {
    "collapsed": true
   },
   "outputs": [],
   "source": [
    "df['Date'] = pd.to_datetime(df['Date'])"
   ]
  },
  {
   "cell_type": "code",
   "execution_count": 562,
   "metadata": {},
   "outputs": [
    {
     "data": {
      "text/plain": [
       "Site                        object\n",
       "Date                datetime64[ns]\n",
       "EnteroCount                  int64\n",
       "FourDayRainTotal           float64\n",
       "SampleCount                  int64\n",
       "dtype: object"
      ]
     },
     "execution_count": 562,
     "metadata": {},
     "output_type": "execute_result"
    }
   ],
   "source": [
    "df.dtypes"
   ]
  },
  {
   "cell_type": "markdown",
   "metadata": {},
   "source": [
    "## Frequency counts"
   ]
  },
  {
   "cell_type": "code",
   "execution_count": 563,
   "metadata": {},
   "outputs": [
    {
     "data": {
      "text/plain": [
       "2011-05-19    27\n",
       "2010-06-18    25\n",
       "2013-09-21    24\n",
       "2009-07-31    23\n",
       "2010-09-14    23\n",
       "Name: Date, dtype: int64"
      ]
     },
     "execution_count": 563,
     "metadata": {},
     "output_type": "execute_result"
    }
   ],
   "source": [
    "df.Date.value_counts(dropna=False).head()"
   ]
  },
  {
   "cell_type": "code",
   "execution_count": 564,
   "metadata": {},
   "outputs": [
    {
     "data": {
      "text/plain": [
       "10    817\n",
       "20    148\n",
       "1     121\n",
       "2      83\n",
       "4      78\n",
       "Name: EnteroCount, dtype: int64"
      ]
     },
     "execution_count": 564,
     "metadata": {},
     "output_type": "execute_result"
    }
   ],
   "source": [
    "df.EnteroCount.value_counts(dropna=False).head()"
   ]
  },
  {
   "cell_type": "code",
   "execution_count": 565,
   "metadata": {},
   "outputs": [
    {
     "data": {
      "text/plain": [
       "0.0    1266\n",
       "0.1     289\n",
       "0.2     263\n",
       "0.5     206\n",
       "0.3     190\n",
       "Name: FourDayRainTotal, dtype: int64"
      ]
     },
     "execution_count": 565,
     "metadata": {},
     "output_type": "execute_result"
    }
   ],
   "source": [
    "df.FourDayRainTotal.value_counts(dropna=False).head()"
   ]
  },
  {
   "cell_type": "code",
   "execution_count": 566,
   "metadata": {},
   "outputs": [
    {
     "data": {
      "text/plain": [
       "36    432\n",
       "38    380\n",
       "35    315\n",
       "37    259\n",
       "47    235\n",
       "Name: SampleCount, dtype: int64"
      ]
     },
     "execution_count": 566,
     "metadata": {},
     "output_type": "execute_result"
    }
   ],
   "source": [
    "df.SampleCount.value_counts(dropna=False).head()"
   ]
  },
  {
   "cell_type": "code",
   "execution_count": 567,
   "metadata": {},
   "outputs": [
    {
     "data": {
      "text/plain": [
       "Piermont Pier            187\n",
       "Upper Sparkill Creek     165\n",
       "125th St. Pier            66\n",
       "Nyack Launch Ramp         61\n",
       "TZ Bridge mid-channel     57\n",
       "Name: Site, dtype: int64"
      ]
     },
     "execution_count": 567,
     "metadata": {},
     "output_type": "execute_result"
    }
   ],
   "source": [
    "df.Site.value_counts(dropna=False).head()"
   ]
  },
  {
   "cell_type": "markdown",
   "metadata": {},
   "source": [
    "## Summary statistics  "
   ]
  },
  {
   "cell_type": "code",
   "execution_count": 568,
   "metadata": {},
   "outputs": [
    {
     "data": {
      "text/html": [
       "<div>\n",
       "<style>\n",
       "    .dataframe thead tr:only-child th {\n",
       "        text-align: right;\n",
       "    }\n",
       "\n",
       "    .dataframe thead th {\n",
       "        text-align: left;\n",
       "    }\n",
       "\n",
       "    .dataframe tbody tr th {\n",
       "        vertical-align: top;\n",
       "    }\n",
       "</style>\n",
       "<table border=\"1\" class=\"dataframe\">\n",
       "  <thead>\n",
       "    <tr style=\"text-align: right;\">\n",
       "      <th></th>\n",
       "      <th>EnteroCount</th>\n",
       "      <th>FourDayRainTotal</th>\n",
       "      <th>SampleCount</th>\n",
       "    </tr>\n",
       "  </thead>\n",
       "  <tbody>\n",
       "    <tr>\n",
       "      <th>count</th>\n",
       "      <td>3397.000000</td>\n",
       "      <td>3397.000000</td>\n",
       "      <td>3397.000000</td>\n",
       "    </tr>\n",
       "    <tr>\n",
       "      <th>mean</th>\n",
       "      <td>387.747719</td>\n",
       "      <td>0.568001</td>\n",
       "      <td>56.886370</td>\n",
       "    </tr>\n",
       "    <tr>\n",
       "      <th>std</th>\n",
       "      <td>2046.114024</td>\n",
       "      <td>1.000387</td>\n",
       "      <td>41.588476</td>\n",
       "    </tr>\n",
       "    <tr>\n",
       "      <th>min</th>\n",
       "      <td>0.000000</td>\n",
       "      <td>0.000000</td>\n",
       "      <td>27.000000</td>\n",
       "    </tr>\n",
       "    <tr>\n",
       "      <th>25%</th>\n",
       "      <td>10.000000</td>\n",
       "      <td>0.000000</td>\n",
       "      <td>37.000000</td>\n",
       "    </tr>\n",
       "    <tr>\n",
       "      <th>50%</th>\n",
       "      <td>18.000000</td>\n",
       "      <td>0.200000</td>\n",
       "      <td>42.000000</td>\n",
       "    </tr>\n",
       "    <tr>\n",
       "      <th>75%</th>\n",
       "      <td>85.000000</td>\n",
       "      <td>0.700000</td>\n",
       "      <td>50.000000</td>\n",
       "    </tr>\n",
       "    <tr>\n",
       "      <th>max</th>\n",
       "      <td>24196.000000</td>\n",
       "      <td>8.500000</td>\n",
       "      <td>187.000000</td>\n",
       "    </tr>\n",
       "  </tbody>\n",
       "</table>\n",
       "</div>"
      ],
      "text/plain": [
       "        EnteroCount  FourDayRainTotal  SampleCount\n",
       "count   3397.000000       3397.000000  3397.000000\n",
       "mean     387.747719          0.568001    56.886370\n",
       "std     2046.114024          1.000387    41.588476\n",
       "min        0.000000          0.000000    27.000000\n",
       "25%       10.000000          0.000000    37.000000\n",
       "50%       18.000000          0.200000    42.000000\n",
       "75%       85.000000          0.700000    50.000000\n",
       "max    24196.000000          8.500000   187.000000"
      ]
     },
     "execution_count": 568,
     "metadata": {},
     "output_type": "execute_result"
    }
   ],
   "source": [
    "df.describe()"
   ]
  },
  {
   "cell_type": "markdown",
   "metadata": {},
   "source": [
    "## Visualize data\n",
    "Data visualization is being done to spot outliers, obvious errors and to view patterns"
   ]
  },
  {
   "cell_type": "code",
   "execution_count": 569,
   "metadata": {},
   "outputs": [
    {
     "data": {
      "image/png": "[encoded data removed]",
      "text/plain": [
       "<matplotlib.figure.Figure at 0x131584f50>"
      ]
     },
     "metadata": {},
     "output_type": "display_data"
    }
   ],
   "source": [
    "df.SampleCount.plot('hist')\n",
    "plt.show()"
   ]
  },
  {
   "cell_type": "code",
   "execution_count": 570,
   "metadata": {},
   "outputs": [
    {
     "data": {
      "image/png": "[encoded data removed]",
      "text/plain": [
       "<matplotlib.figure.Figure at 0x12182d990>"
      ]
     },
     "metadata": {},
     "output_type": "display_data"
    }
   ],
   "source": [
    "df.FourDayRainTotal.plot('hist')\n",
    "plt.show()"
   ]
  },
  {
   "cell_type": "code",
   "execution_count": 571,
   "metadata": {},
   "outputs": [
    {
     "data": {
      "image/png": "[encoded data removed]",
      "text/plain": [
       "<matplotlib.figure.Figure at 0x122e86ad0>"
      ]
     },
     "metadata": {},
     "output_type": "display_data"
    }
   ],
   "source": [
    "df.EnteroCount.plot('hist')\n",
    "plt.show()"
   ]
  },
  {
   "cell_type": "code",
   "execution_count": 572,
   "metadata": {
    "scrolled": true
   },
   "outputs": [
    {
     "data": {
      "image/png": "[encoded data removed]",
      "text/plain": [
       "<matplotlib.figure.Figure at 0x128bd8f90>"
      ]
     },
     "metadata": {},
     "output_type": "display_data"
    }
   ],
   "source": [
    "df.plot.scatter(x='EnteroCount', y='FourDayRainTotal')\n",
    "plt.show()"
   ]
  },
  {
   "cell_type": "markdown",
   "metadata": {},
   "source": [
    "#### Best and worst places to swim"
   ]
  },
  {
   "cell_type": "code",
   "execution_count": 573,
   "metadata": {},
   "outputs": [],
   "source": [
    "#Calculate mean of each siteapply(lambda grp: grp.nlargest(2)\n",
    "xbar = df.groupby('Site')['EnteroCount'].mean().reset_index()\n",
    "                                                                   "
   ]
  },
  {
   "cell_type": "code",
   "execution_count": 574,
   "metadata": {},
   "outputs": [
    {
     "name": "stdout",
     "output_type": "stream",
     "text": [
      "                                      Site  EnteroCount\n",
      "0                            Gowanus Canal  4206.837838\n",
      "1  Newtown Creek- Metropolitan Ave. Bridge  2953.684211\n",
      "2                         Tarrytown Marina  2205.666667\n",
      "3                           Saw Mill River  1455.760000\n",
      "4                     Upper Sparkill Creek  1296.072727\n",
      "5               Newtown Creek- Dutch Kills  1205.087719\n",
      "6      Kingsland Pt. Park- Pocantico River   907.857143\n",
      "7                   Orangetown STP Outfall   854.192982\n",
      "8                Mohawk River at Waterford   621.057143\n",
      "9                            Piermont Pier   482.165775\n"
     ]
    }
   ],
   "source": [
    "wswim = xbar.sort_values('EnteroCount', ascending=False)[:10].reset_index(drop=True)\n",
    "print(wswim)"
   ]
  },
  {
   "cell_type": "code",
   "execution_count": 575,
   "metadata": {},
   "outputs": [
    {
     "data": {
      "image/png": "[encoded data removed]",
      "text/plain": [
       "<matplotlib.figure.Figure at 0x127cb9bd0>"
      ]
     },
     "metadata": {},
     "output_type": "display_data"
    }
   ],
   "source": [
    "with plt.style.context('seaborn-white'):\n",
    "    sns.swarmplot(x=\"EnteroCount\", y=\"Site\", size = 15, palette = \"BuGn_r\", data=wswim)\n",
    "    plt.title(\"Swimming Sites with the Highest Enterococcus Levels\")\n",
    "    plt.xlabel(\"Mean Enterococcus Level\")\n",
    "    plt.show()"
   ]
  },
  {
   "cell_type": "code",
   "execution_count": 576,
   "metadata": {},
   "outputs": [
    {
     "name": "stdout",
     "output_type": "stream",
     "text": [
      "                                 Site  EnteroCount\n",
      "0  Poughkeepsie Drinking Water Intake     8.342105\n",
      "1                  Croton Point Beach    15.458333\n",
      "2             Stony Point mid-channel    17.340909\n",
      "3                  Little Stony Point    17.526316\n",
      "4            Poughkeepsie Launch Ramp    17.675676\n",
      "5          Haverstraw Bay mid-channel    18.708333\n",
      "6               TZ Bridge mid-channel    21.438596\n",
      "7                  Cold Spring Harbor    22.542857\n",
      "8                 Yonkers mid-channel    25.019231\n",
      "9                     Irvington Beach    28.805556\n"
     ]
    }
   ],
   "source": [
    "bswim = xbar.sort_values('EnteroCount')[:10].reset_index(drop=True)\n",
    "print(bswim)"
   ]
  },
  {
   "cell_type": "code",
   "execution_count": 577,
   "metadata": {},
   "outputs": [
    {
     "data": {
      "image/png": "[encoded data removed]",
      "text/plain": [
       "<matplotlib.figure.Figure at 0x122e7cf90>"
      ]
     },
     "metadata": {},
     "output_type": "display_data"
    }
   ],
   "source": [
    "with plt.style.context('seaborn-white'):\n",
    "    sns.swarmplot(x=\"EnteroCount\", y=\"Site\", size = 15, palette = \"BuGn_r\", data=bswim)\n",
    "    plt.title(\"Swimming Sites with the Lowest Enterococcus Levels\")\n",
    "    plt.xlabel(\"Mean Enterococcus Level\")\n",
    "    plt.show()"
   ]
  },
  {
   "cell_type": "markdown",
   "metadata": {},
   "source": [
    "#### The testing of water quality can be sporadic. Which sites have been tested most regularly? Which ones have long gaps between tests? Pick out 5-10 sites and visually compare how regularly their water quality is tested.¶"
   ]
  },
  {
   "cell_type": "code",
   "execution_count": 578,
   "metadata": {},
   "outputs": [
    {
     "data": {
      "text/html": [
       "<div>\n",
       "<style>\n",
       "    .dataframe thead tr:only-child th {\n",
       "        text-align: right;\n",
       "    }\n",
       "\n",
       "    .dataframe thead th {\n",
       "        text-align: left;\n",
       "    }\n",
       "\n",
       "    .dataframe tbody tr th {\n",
       "        vertical-align: top;\n",
       "    }\n",
       "</style>\n",
       "<table border=\"1\" class=\"dataframe\">\n",
       "  <thead>\n",
       "    <tr style=\"text-align: right;\">\n",
       "      <th></th>\n",
       "      <th>Site</th>\n",
       "      <th>Date</th>\n",
       "      <th>EnteroCount</th>\n",
       "      <th>FourDayRainTotal</th>\n",
       "      <th>SampleCount</th>\n",
       "    </tr>\n",
       "  </thead>\n",
       "  <tbody>\n",
       "    <tr>\n",
       "      <th>2923</th>\n",
       "      <td>125th St. Pier</td>\n",
       "      <td>2006-10-02</td>\n",
       "      <td>1433</td>\n",
       "      <td>0.5</td>\n",
       "      <td>66</td>\n",
       "    </tr>\n",
       "    <tr>\n",
       "      <th>2919</th>\n",
       "      <td>125th St. Pier</td>\n",
       "      <td>2006-10-03</td>\n",
       "      <td>773</td>\n",
       "      <td>0.4</td>\n",
       "      <td>66</td>\n",
       "    </tr>\n",
       "    <tr>\n",
       "      <th>2917</th>\n",
       "      <td>125th St. Pier</td>\n",
       "      <td>2006-10-06</td>\n",
       "      <td>824</td>\n",
       "      <td>0.7</td>\n",
       "      <td>66</td>\n",
       "    </tr>\n",
       "    <tr>\n",
       "      <th>2916</th>\n",
       "      <td>125th St. Pier</td>\n",
       "      <td>2006-10-11</td>\n",
       "      <td>269</td>\n",
       "      <td>0.4</td>\n",
       "      <td>66</td>\n",
       "    </tr>\n",
       "    <tr>\n",
       "      <th>2915</th>\n",
       "      <td>125th St. Pier</td>\n",
       "      <td>2006-10-12</td>\n",
       "      <td>305</td>\n",
       "      <td>1.9</td>\n",
       "      <td>66</td>\n",
       "    </tr>\n",
       "  </tbody>\n",
       "</table>\n",
       "</div>"
      ],
      "text/plain": [
       "                Site       Date  EnteroCount  FourDayRainTotal  SampleCount\n",
       "2923  125th St. Pier 2006-10-02         1433               0.5           66\n",
       "2919  125th St. Pier 2006-10-03          773               0.4           66\n",
       "2917  125th St. Pier 2006-10-06          824               0.7           66\n",
       "2916  125th St. Pier 2006-10-11          269               0.4           66\n",
       "2915  125th St. Pier 2006-10-12          305               1.9           66"
      ]
     },
     "execution_count": 578,
     "metadata": {},
     "output_type": "execute_result"
    }
   ],
   "source": [
    "#Sort the dataframe\n",
    "df1 = df.sort_values(['Site', 'Date'], ascending=[True, True])\n",
    "df1.head()"
   ]
  },
  {
   "cell_type": "code",
   "execution_count": 579,
   "metadata": {},
   "outputs": [
    {
     "data": {
      "text/html": [
       "<div>\n",
       "<style>\n",
       "    .dataframe thead tr:only-child th {\n",
       "        text-align: right;\n",
       "    }\n",
       "\n",
       "    .dataframe thead th {\n",
       "        text-align: left;\n",
       "    }\n",
       "\n",
       "    .dataframe tbody tr th {\n",
       "        vertical-align: top;\n",
       "    }\n",
       "</style>\n",
       "<table border=\"1\" class=\"dataframe\">\n",
       "  <thead>\n",
       "    <tr style=\"text-align: right;\">\n",
       "      <th></th>\n",
       "      <th>Site</th>\n",
       "      <th>Date</th>\n",
       "      <th>EnteroCount</th>\n",
       "      <th>FourDayRainTotal</th>\n",
       "      <th>SampleCount</th>\n",
       "      <th>DaysSinceLast</th>\n",
       "    </tr>\n",
       "  </thead>\n",
       "  <tbody>\n",
       "    <tr>\n",
       "      <th>2923</th>\n",
       "      <td>125th St. Pier</td>\n",
       "      <td>2006-10-02</td>\n",
       "      <td>1433</td>\n",
       "      <td>0.5</td>\n",
       "      <td>66</td>\n",
       "      <td>0.0</td>\n",
       "    </tr>\n",
       "    <tr>\n",
       "      <th>2919</th>\n",
       "      <td>125th St. Pier</td>\n",
       "      <td>2006-10-03</td>\n",
       "      <td>773</td>\n",
       "      <td>0.4</td>\n",
       "      <td>66</td>\n",
       "      <td>1.0</td>\n",
       "    </tr>\n",
       "    <tr>\n",
       "      <th>2917</th>\n",
       "      <td>125th St. Pier</td>\n",
       "      <td>2006-10-06</td>\n",
       "      <td>824</td>\n",
       "      <td>0.7</td>\n",
       "      <td>66</td>\n",
       "      <td>3.0</td>\n",
       "    </tr>\n",
       "    <tr>\n",
       "      <th>2916</th>\n",
       "      <td>125th St. Pier</td>\n",
       "      <td>2006-10-11</td>\n",
       "      <td>269</td>\n",
       "      <td>0.4</td>\n",
       "      <td>66</td>\n",
       "      <td>5.0</td>\n",
       "    </tr>\n",
       "    <tr>\n",
       "      <th>2915</th>\n",
       "      <td>125th St. Pier</td>\n",
       "      <td>2006-10-12</td>\n",
       "      <td>305</td>\n",
       "      <td>1.9</td>\n",
       "      <td>66</td>\n",
       "      <td>1.0</td>\n",
       "    </tr>\n",
       "  </tbody>\n",
       "</table>\n",
       "</div>"
      ],
      "text/plain": [
       "                Site       Date  EnteroCount  FourDayRainTotal  SampleCount  \\\n",
       "2923  125th St. Pier 2006-10-02         1433               0.5           66   \n",
       "2919  125th St. Pier 2006-10-03          773               0.4           66   \n",
       "2917  125th St. Pier 2006-10-06          824               0.7           66   \n",
       "2916  125th St. Pier 2006-10-11          269               0.4           66   \n",
       "2915  125th St. Pier 2006-10-12          305               1.9           66   \n",
       "\n",
       "      DaysSinceLast  \n",
       "2923            0.0  \n",
       "2919            1.0  \n",
       "2917            3.0  \n",
       "2916            5.0  \n",
       "2915            1.0  "
      ]
     },
     "execution_count": 579,
     "metadata": {},
     "output_type": "execute_result"
    }
   ],
   "source": [
    "#Number of days since last test\n",
    "df1[\"DaysSinceLast\"] = df1.groupby('Site')['Date'].diff() / np.timedelta64(1, 'D')\n",
    "df1['DaysSinceLast'] = df1['DaysSinceLast'].fillna(0)\n",
    "\n",
    "df1.head()"
   ]
  },
  {
   "cell_type": "code",
   "execution_count": 580,
   "metadata": {},
   "outputs": [
    {
     "data": {
      "text/html": [
       "<div>\n",
       "<style>\n",
       "    .dataframe thead tr:only-child th {\n",
       "        text-align: right;\n",
       "    }\n",
       "\n",
       "    .dataframe thead th {\n",
       "        text-align: left;\n",
       "    }\n",
       "\n",
       "    .dataframe tbody tr th {\n",
       "        vertical-align: top;\n",
       "    }\n",
       "</style>\n",
       "<table border=\"1\" class=\"dataframe\">\n",
       "  <thead>\n",
       "    <tr style=\"text-align: right;\">\n",
       "      <th></th>\n",
       "      <th>Variability</th>\n",
       "      <th>MaxDaysBetween</th>\n",
       "      <th>MedianDaysBetween</th>\n",
       "      <th>MeanDaysBetween</th>\n",
       "      <th>MinDaysBetweenTests</th>\n",
       "    </tr>\n",
       "    <tr>\n",
       "      <th>Site</th>\n",
       "      <th></th>\n",
       "      <th></th>\n",
       "      <th></th>\n",
       "      <th></th>\n",
       "      <th></th>\n",
       "    </tr>\n",
       "  </thead>\n",
       "  <tbody>\n",
       "    <tr>\n",
       "      <th>125th St. Pier</th>\n",
       "      <td>65.247560</td>\n",
       "      <td>291.0</td>\n",
       "      <td>25.0</td>\n",
       "      <td>38.954545</td>\n",
       "      <td>0.0</td>\n",
       "    </tr>\n",
       "    <tr>\n",
       "      <th>79th St. mid-channel</th>\n",
       "      <td>65.730168</td>\n",
       "      <td>256.0</td>\n",
       "      <td>28.0</td>\n",
       "      <td>52.591837</td>\n",
       "      <td>0.0</td>\n",
       "    </tr>\n",
       "    <tr>\n",
       "      <th>Albany Rowing Dock</th>\n",
       "      <td>66.350991</td>\n",
       "      <td>232.0</td>\n",
       "      <td>29.5</td>\n",
       "      <td>54.944444</td>\n",
       "      <td>0.0</td>\n",
       "    </tr>\n",
       "    <tr>\n",
       "      <th>Annesville Creek</th>\n",
       "      <td>64.764021</td>\n",
       "      <td>231.0</td>\n",
       "      <td>28.0</td>\n",
       "      <td>52.000000</td>\n",
       "      <td>0.0</td>\n",
       "    </tr>\n",
       "    <tr>\n",
       "      <th>Athens</th>\n",
       "      <td>67.065088</td>\n",
       "      <td>232.0</td>\n",
       "      <td>30.0</td>\n",
       "      <td>55.742857</td>\n",
       "      <td>0.0</td>\n",
       "    </tr>\n",
       "  </tbody>\n",
       "</table>\n",
       "</div>"
      ],
      "text/plain": [
       "                      Variability  MaxDaysBetween  MedianDaysBetween  \\\n",
       "Site                                                                   \n",
       "125th St. Pier          65.247560           291.0               25.0   \n",
       "79th St. mid-channel    65.730168           256.0               28.0   \n",
       "Albany Rowing Dock      66.350991           232.0               29.5   \n",
       "Annesville Creek        64.764021           231.0               28.0   \n",
       "Athens                  67.065088           232.0               30.0   \n",
       "\n",
       "                      MeanDaysBetween  MinDaysBetweenTests  \n",
       "Site                                                        \n",
       "125th St. Pier              38.954545                  0.0  \n",
       "79th St. mid-channel        52.591837                  0.0  \n",
       "Albany Rowing Dock          54.944444                  0.0  \n",
       "Annesville Creek            52.000000                  0.0  \n",
       "Athens                      55.742857                  0.0  "
      ]
     },
     "execution_count": 580,
     "metadata": {},
     "output_type": "execute_result"
    }
   ],
   "source": [
    "df2 = df1.groupby(['Site']).agg({\n",
    "    \"DaysSinceLast\": {\"Variability\":  \"std\", \"MinDaysBetweenTests\":    \"min\",\n",
    "    \"MeanDaysBetween\":    \"mean\", \"MedianDaysBetween\": \"median\",\n",
    "    \"MaxDaysBetween\":    \"max\"}\n",
    "}) \n",
    "df2.columns = df2.columns.droplevel(level=0) #Remove 2nd dimension\n",
    "\n",
    "df2.head()"
   ]
  },
  {
   "cell_type": "code",
   "execution_count": 581,
   "metadata": {},
   "outputs": [
    {
     "data": {
      "text/html": [
       "<div>\n",
       "<style>\n",
       "    .dataframe thead tr:only-child th {\n",
       "        text-align: right;\n",
       "    }\n",
       "\n",
       "    .dataframe thead th {\n",
       "        text-align: left;\n",
       "    }\n",
       "\n",
       "    .dataframe tbody tr th {\n",
       "        vertical-align: top;\n",
       "    }\n",
       "</style>\n",
       "<table border=\"1\" class=\"dataframe\">\n",
       "  <thead>\n",
       "    <tr style=\"text-align: right;\">\n",
       "      <th></th>\n",
       "      <th>Site</th>\n",
       "      <th>MeanDaysBetween</th>\n",
       "    </tr>\n",
       "  </thead>\n",
       "  <tbody>\n",
       "    <tr>\n",
       "      <th>0</th>\n",
       "      <td>Tarrytown Marina</td>\n",
       "      <td>70.296296</td>\n",
       "    </tr>\n",
       "    <tr>\n",
       "      <th>1</th>\n",
       "      <td>Gowanus Canal</td>\n",
       "      <td>64.135135</td>\n",
       "    </tr>\n",
       "    <tr>\n",
       "      <th>2</th>\n",
       "      <td>Stony Point mid-channel</td>\n",
       "      <td>58.750000</td>\n",
       "    </tr>\n",
       "    <tr>\n",
       "      <th>3</th>\n",
       "      <td>Hudson above Mohawk River</td>\n",
       "      <td>56.514286</td>\n",
       "    </tr>\n",
       "    <tr>\n",
       "      <th>4</th>\n",
       "      <td>Mohawk River at Waterford</td>\n",
       "      <td>56.514286</td>\n",
       "    </tr>\n",
       "    <tr>\n",
       "      <th>5</th>\n",
       "      <td>Upper Sparkill Creek</td>\n",
       "      <td>13.636364</td>\n",
       "    </tr>\n",
       "    <tr>\n",
       "      <th>6</th>\n",
       "      <td>Piermont Pier</td>\n",
       "      <td>13.673797</td>\n",
       "    </tr>\n",
       "    <tr>\n",
       "      <th>7</th>\n",
       "      <td>Nyack Launch Ramp</td>\n",
       "      <td>31.950820</td>\n",
       "    </tr>\n",
       "    <tr>\n",
       "      <th>8</th>\n",
       "      <td>125th St. Pier</td>\n",
       "      <td>38.954545</td>\n",
       "    </tr>\n",
       "    <tr>\n",
       "      <th>9</th>\n",
       "      <td>Rondout- Eddyville Anchorage</td>\n",
       "      <td>43.933333</td>\n",
       "    </tr>\n",
       "  </tbody>\n",
       "</table>\n",
       "</div>"
      ],
      "text/plain": [
       "                           Site  MeanDaysBetween\n",
       "0              Tarrytown Marina        70.296296\n",
       "1                 Gowanus Canal        64.135135\n",
       "2       Stony Point mid-channel        58.750000\n",
       "3     Hudson above Mohawk River        56.514286\n",
       "4     Mohawk River at Waterford        56.514286\n",
       "5          Upper Sparkill Creek        13.636364\n",
       "6                 Piermont Pier        13.673797\n",
       "7             Nyack Launch Ramp        31.950820\n",
       "8                125th St. Pier        38.954545\n",
       "9  Rondout- Eddyville Anchorage        43.933333"
      ]
     },
     "execution_count": 581,
     "metadata": {},
     "output_type": "execute_result"
    }
   ],
   "source": [
    "#Identify sites most frequently and least frequently tested\n",
    "Most = df2.MeanDaysBetween.nsmallest(5).reset_index()\n",
    "Least = df2.MeanDaysBetween.nlargest(5).reset_index()\n",
    "\n",
    "both = Least.append(Most, ignore_index=True).reset_index(drop=True)\n",
    "\n",
    "both"
   ]
  },
  {
   "cell_type": "code",
   "execution_count": 582,
   "metadata": {
    "scrolled": true
   },
   "outputs": [
    {
     "data": {
      "image/png": "[encoded data removed]",
      "text/plain": [
       "<matplotlib.figure.Figure at 0x122e66c50>"
      ]
     },
     "metadata": {},
     "output_type": "display_data"
    }
   ],
   "source": [
    "with plt.style.context('seaborn-white'):\n",
    "    sns.barplot(y=\"Site\", x=\"MeanDaysBetween\", palette = \"BuGn_r\", data=Most)\n",
    "    plt.title(\"Sites Most Frequently Tested\")\n",
    "    plt.xlabel(\"Mean Number of Days Between Testing\")\n",
    "    plt.show()"
   ]
  },
  {
   "cell_type": "code",
   "execution_count": 583,
   "metadata": {},
   "outputs": [
    {
     "data": {
      "image/png": "[encoded data removed]",
      "text/plain": [
       "<matplotlib.figure.Figure at 0x12189bc10>"
      ]
     },
     "metadata": {},
     "output_type": "display_data"
    }
   ],
   "source": [
    "with plt.style.context('seaborn-white'):\n",
    "    sns.barplot(y=\"Site\", x=\"MeanDaysBetween\", palette = \"BuGn_r\", data=Least)\n",
    "    plt.title(\"Sites Least Frequently Tested\")\n",
    "    plt.xlabel(\"Mean Number of Days Between Testing\")\n",
    "    plt.show()"
   ]
  },
  {
   "cell_type": "markdown",
   "metadata": {},
   "source": [
    "#### Is there a relationship between the amount of rain and water quality? Show this relationship graphically. If you can, estimate the effect of rain on quality at different sites and create a visualization to compare them."
   ]
  },
  {
   "cell_type": "code",
   "execution_count": 584,
   "metadata": {},
   "outputs": [
    {
     "data": {
      "text/plain": [
       "count    3397.000000\n",
       "mean        0.568001\n",
       "std         1.000387\n",
       "min         0.000000\n",
       "25%         0.000000\n",
       "50%         0.200000\n",
       "75%         0.700000\n",
       "max         8.500000\n",
       "Name: FourDayRainTotal, dtype: float64"
      ]
     },
     "execution_count": 584,
     "metadata": {},
     "output_type": "execute_result"
    }
   ],
   "source": [
    "df['FourDayRainTotal'].describe()"
   ]
  },
  {
   "cell_type": "code",
   "execution_count": 585,
   "metadata": {
    "scrolled": true
   },
   "outputs": [
    {
     "data": {
      "image/png": "[encoded data removed]",
      "text/plain": [
       "<matplotlib.figure.Figure at 0x12cbe6550>"
      ]
     },
     "metadata": {},
     "output_type": "display_data"
    }
   ],
   "source": [
    "with plt.style.context('seaborn-white'):\n",
    "    sns.lmplot('FourDayRainTotal', 'EnteroCount', palette = \"BuGn_r\", data=df)\n",
    "    plt.title(\"Enterococcus Count by Four Day Rain Total\")\n",
    "    plt.xlabel(\"Count\")\n",
    "    plt.ylabel(\"Rain Total\")\n",
    "    plt.show()"
   ]
  },
  {
   "cell_type": "code",
   "execution_count": 586,
   "metadata": {},
   "outputs": [
    {
     "data": {
      "text/html": [
       "<div>\n",
       "<style>\n",
       "    .dataframe thead tr:only-child th {\n",
       "        text-align: right;\n",
       "    }\n",
       "\n",
       "    .dataframe thead th {\n",
       "        text-align: left;\n",
       "    }\n",
       "\n",
       "    .dataframe tbody tr th {\n",
       "        vertical-align: top;\n",
       "    }\n",
       "</style>\n",
       "<table border=\"1\" class=\"dataframe\">\n",
       "  <thead>\n",
       "    <tr>\n",
       "      <th></th>\n",
       "      <th colspan=\"3\" halign=\"left\">EnteroCount</th>\n",
       "    </tr>\n",
       "    <tr>\n",
       "      <th></th>\n",
       "      <th>Max</th>\n",
       "      <th>Median</th>\n",
       "      <th>Min</th>\n",
       "    </tr>\n",
       "    <tr>\n",
       "      <th>FourDayRainTotal</th>\n",
       "      <th></th>\n",
       "      <th></th>\n",
       "      <th></th>\n",
       "    </tr>\n",
       "  </thead>\n",
       "  <tbody>\n",
       "    <tr>\n",
       "      <th>0.0</th>\n",
       "      <td>10112</td>\n",
       "      <td>10.0</td>\n",
       "      <td>1</td>\n",
       "    </tr>\n",
       "    <tr>\n",
       "      <th>0.1</th>\n",
       "      <td>24196</td>\n",
       "      <td>20.0</td>\n",
       "      <td>0</td>\n",
       "    </tr>\n",
       "    <tr>\n",
       "      <th>0.2</th>\n",
       "      <td>2420</td>\n",
       "      <td>13.0</td>\n",
       "      <td>1</td>\n",
       "    </tr>\n",
       "    <tr>\n",
       "      <th>0.3</th>\n",
       "      <td>24196</td>\n",
       "      <td>10.0</td>\n",
       "      <td>1</td>\n",
       "    </tr>\n",
       "    <tr>\n",
       "      <th>0.4</th>\n",
       "      <td>2987</td>\n",
       "      <td>11.0</td>\n",
       "      <td>1</td>\n",
       "    </tr>\n",
       "    <tr>\n",
       "      <th>0.5</th>\n",
       "      <td>24196</td>\n",
       "      <td>15.5</td>\n",
       "      <td>1</td>\n",
       "    </tr>\n",
       "    <tr>\n",
       "      <th>0.6</th>\n",
       "      <td>6488</td>\n",
       "      <td>13.0</td>\n",
       "      <td>1</td>\n",
       "    </tr>\n",
       "    <tr>\n",
       "      <th>0.7</th>\n",
       "      <td>2420</td>\n",
       "      <td>12.0</td>\n",
       "      <td>1</td>\n",
       "    </tr>\n",
       "    <tr>\n",
       "      <th>0.8</th>\n",
       "      <td>12030</td>\n",
       "      <td>11.0</td>\n",
       "      <td>1</td>\n",
       "    </tr>\n",
       "    <tr>\n",
       "      <th>0.9</th>\n",
       "      <td>8160</td>\n",
       "      <td>26.0</td>\n",
       "      <td>1</td>\n",
       "    </tr>\n",
       "    <tr>\n",
       "      <th>1.0</th>\n",
       "      <td>24196</td>\n",
       "      <td>24.0</td>\n",
       "      <td>1</td>\n",
       "    </tr>\n",
       "    <tr>\n",
       "      <th>1.1</th>\n",
       "      <td>24196</td>\n",
       "      <td>41.0</td>\n",
       "      <td>1</td>\n",
       "    </tr>\n",
       "    <tr>\n",
       "      <th>1.2</th>\n",
       "      <td>24196</td>\n",
       "      <td>229.5</td>\n",
       "      <td>6</td>\n",
       "    </tr>\n",
       "    <tr>\n",
       "      <th>1.3</th>\n",
       "      <td>2420</td>\n",
       "      <td>525.0</td>\n",
       "      <td>10</td>\n",
       "    </tr>\n",
       "    <tr>\n",
       "      <th>1.4</th>\n",
       "      <td>2420</td>\n",
       "      <td>30.0</td>\n",
       "      <td>1</td>\n",
       "    </tr>\n",
       "    <tr>\n",
       "      <th>1.5</th>\n",
       "      <td>3654</td>\n",
       "      <td>129.0</td>\n",
       "      <td>4</td>\n",
       "    </tr>\n",
       "    <tr>\n",
       "      <th>1.6</th>\n",
       "      <td>24196</td>\n",
       "      <td>136.5</td>\n",
       "      <td>10</td>\n",
       "    </tr>\n",
       "    <tr>\n",
       "      <th>1.7</th>\n",
       "      <td>2220</td>\n",
       "      <td>74.0</td>\n",
       "      <td>5</td>\n",
       "    </tr>\n",
       "    <tr>\n",
       "      <th>1.8</th>\n",
       "      <td>24196</td>\n",
       "      <td>686.0</td>\n",
       "      <td>10</td>\n",
       "    </tr>\n",
       "    <tr>\n",
       "      <th>1.9</th>\n",
       "      <td>24196</td>\n",
       "      <td>674.5</td>\n",
       "      <td>10</td>\n",
       "    </tr>\n",
       "    <tr>\n",
       "      <th>2.0</th>\n",
       "      <td>24196</td>\n",
       "      <td>86.0</td>\n",
       "      <td>10</td>\n",
       "    </tr>\n",
       "    <tr>\n",
       "      <th>2.1</th>\n",
       "      <td>2420</td>\n",
       "      <td>54.0</td>\n",
       "      <td>4</td>\n",
       "    </tr>\n",
       "    <tr>\n",
       "      <th>2.2</th>\n",
       "      <td>2481</td>\n",
       "      <td>147.0</td>\n",
       "      <td>110</td>\n",
       "    </tr>\n",
       "    <tr>\n",
       "      <th>2.3</th>\n",
       "      <td>2420</td>\n",
       "      <td>40.5</td>\n",
       "      <td>2</td>\n",
       "    </tr>\n",
       "    <tr>\n",
       "      <th>2.4</th>\n",
       "      <td>24196</td>\n",
       "      <td>13044.0</td>\n",
       "      <td>1892</td>\n",
       "    </tr>\n",
       "    <tr>\n",
       "      <th>2.5</th>\n",
       "      <td>2420</td>\n",
       "      <td>1847.5</td>\n",
       "      <td>1275</td>\n",
       "    </tr>\n",
       "    <tr>\n",
       "      <th>2.6</th>\n",
       "      <td>2420</td>\n",
       "      <td>1282.0</td>\n",
       "      <td>144</td>\n",
       "    </tr>\n",
       "    <tr>\n",
       "      <th>2.8</th>\n",
       "      <td>24196</td>\n",
       "      <td>517.0</td>\n",
       "      <td>23</td>\n",
       "    </tr>\n",
       "    <tr>\n",
       "      <th>3.0</th>\n",
       "      <td>2420</td>\n",
       "      <td>2420.0</td>\n",
       "      <td>24</td>\n",
       "    </tr>\n",
       "    <tr>\n",
       "      <th>3.2</th>\n",
       "      <td>1500</td>\n",
       "      <td>1500.0</td>\n",
       "      <td>1500</td>\n",
       "    </tr>\n",
       "    <tr>\n",
       "      <th>3.4</th>\n",
       "      <td>31</td>\n",
       "      <td>10.0</td>\n",
       "      <td>10</td>\n",
       "    </tr>\n",
       "    <tr>\n",
       "      <th>3.6</th>\n",
       "      <td>1500</td>\n",
       "      <td>126.5</td>\n",
       "      <td>6</td>\n",
       "    </tr>\n",
       "    <tr>\n",
       "      <th>3.9</th>\n",
       "      <td>1500</td>\n",
       "      <td>200.0</td>\n",
       "      <td>72</td>\n",
       "    </tr>\n",
       "    <tr>\n",
       "      <th>4.8</th>\n",
       "      <td>24196</td>\n",
       "      <td>130.0</td>\n",
       "      <td>30</td>\n",
       "    </tr>\n",
       "    <tr>\n",
       "      <th>5.4</th>\n",
       "      <td>213</td>\n",
       "      <td>213.0</td>\n",
       "      <td>213</td>\n",
       "    </tr>\n",
       "    <tr>\n",
       "      <th>6.4</th>\n",
       "      <td>24196</td>\n",
       "      <td>103.0</td>\n",
       "      <td>10</td>\n",
       "    </tr>\n",
       "    <tr>\n",
       "      <th>8.5</th>\n",
       "      <td>1496</td>\n",
       "      <td>274.0</td>\n",
       "      <td>10</td>\n",
       "    </tr>\n",
       "  </tbody>\n",
       "</table>\n",
       "</div>"
      ],
      "text/plain": [
       "                 EnteroCount               \n",
       "                         Max   Median   Min\n",
       "FourDayRainTotal                           \n",
       "0.0                    10112     10.0     1\n",
       "0.1                    24196     20.0     0\n",
       "0.2                     2420     13.0     1\n",
       "0.3                    24196     10.0     1\n",
       "0.4                     2987     11.0     1\n",
       "0.5                    24196     15.5     1\n",
       "0.6                     6488     13.0     1\n",
       "0.7                     2420     12.0     1\n",
       "0.8                    12030     11.0     1\n",
       "0.9                     8160     26.0     1\n",
       "1.0                    24196     24.0     1\n",
       "1.1                    24196     41.0     1\n",
       "1.2                    24196    229.5     6\n",
       "1.3                     2420    525.0    10\n",
       "1.4                     2420     30.0     1\n",
       "1.5                     3654    129.0     4\n",
       "1.6                    24196    136.5    10\n",
       "1.7                     2220     74.0     5\n",
       "1.8                    24196    686.0    10\n",
       "1.9                    24196    674.5    10\n",
       "2.0                    24196     86.0    10\n",
       "2.1                     2420     54.0     4\n",
       "2.2                     2481    147.0   110\n",
       "2.3                     2420     40.5     2\n",
       "2.4                    24196  13044.0  1892\n",
       "2.5                     2420   1847.5  1275\n",
       "2.6                     2420   1282.0   144\n",
       "2.8                    24196    517.0    23\n",
       "3.0                     2420   2420.0    24\n",
       "3.2                     1500   1500.0  1500\n",
       "3.4                       31     10.0    10\n",
       "3.6                     1500    126.5     6\n",
       "3.9                     1500    200.0    72\n",
       "4.8                    24196    130.0    30\n",
       "5.4                      213    213.0   213\n",
       "6.4                    24196    103.0    10\n",
       "8.5                     1496    274.0    10"
      ]
     },
     "execution_count": 586,
     "metadata": {},
     "output_type": "execute_result"
    }
   ],
   "source": [
    "rel = df\n",
    "rel.groupby(['FourDayRainTotal']).agg({\n",
    "    \"EnteroCount\": {\"Min\": \"min\", \"Median\": \"median\", \"Max\": \"max\"}\n",
    "    \n",
    "})\n"
   ]
  },
  {
   "cell_type": "markdown",
   "metadata": {},
   "source": [
    "There is a relationship between the Enterococcus count and the four day rain total. When the four day rain total is between 0-3 the Enterococcus counts are the lowest. "
   ]
  }
 ],
 "metadata": {
  "kernelspec": {
   "display_name": "Python [conda root]",
   "language": "python",
   "name": "conda-root-py"
  },
  "language_info": {
   "codemirror_mode": {
    "name": "ipython",
    "version": 2
   },
   "file_extension": ".py",
   "mimetype": "text/x-python",
   "name": "python",
   "nbconvert_exporter": "python",
   "pygments_lexer": "ipython2",
   "version": "2.7.13"
  }
 },
 "nbformat": 4,
 "nbformat_minor": 2
}
